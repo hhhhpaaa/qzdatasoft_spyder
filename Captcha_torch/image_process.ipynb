{
 "cells": [
  {
   "cell_type": "markdown",
   "source": [
    "# 爬取验证码图片"
   ],
   "metadata": {
    "collapsed": false,
    "pycharm": {
     "name": "#%% md\n"
    }
   }
  },
  {
   "cell_type": "code",
   "execution_count": 1,
   "outputs": [],
   "source": [
    "import requests\n",
    "from PIL import Image\n",
    "import cv2 as cv\n",
    "import os\n",
    "import matplotlib.pyplot as plt"
   ],
   "metadata": {
    "collapsed": false,
    "pycharm": {
     "name": "#%%\n"
    }
   }
  },
  {
   "cell_type": "code",
   "execution_count": null,
   "outputs": [],
   "source": [
    "def spyder_img(url_img, image_num):\n",
    "\n",
    "    for i in range(image_num):\n",
    "        image = requests.get(url_img).content\n",
    "        img_path = str(i) + '.jpg'\n",
    "        with open(os.path.join('./img', img_path), 'wb') as fp:\n",
    "            fp.write(image)"
   ],
   "metadata": {
    "collapsed": false,
    "pycharm": {
     "name": "#%%\n"
    }
   }
  },
  {
   "cell_type": "code",
   "execution_count": null,
   "outputs": [],
   "source": [
    "image_num = 100\n",
    "url_img = 'http://域名/verifycode.servlet?'\n",
    "spyder_img(url_img, image_num)"
   ],
   "metadata": {
    "collapsed": false,
    "pycharm": {
     "name": "#%%\n"
    }
   }
  },
  {
   "cell_type": "markdown",
   "source": [
    "# 手动标记验证码"
   ],
   "metadata": {
    "collapsed": false,
    "pycharm": {
     "name": "#%% md\n"
    }
   }
  },
  {
   "cell_type": "code",
   "execution_count": null,
   "outputs": [],
   "source": [
    "path = './img/'  # 爬取图片存放路径\n",
    "path_ = './img_label/'  # 标记之后图片存储路径\n",
    "files= os.listdir(path)"
   ],
   "metadata": {
    "collapsed": false,
    "pycharm": {
     "name": "#%%\n"
    }
   }
  },
  {
   "cell_type": "code",
   "execution_count": null,
   "outputs": [],
   "source": [
    "for i in files:\n",
    "    img_path = os.path.join(path, i)\n",
    "    image = Image.open(img_path)\n",
    "    plt.imshow(image)\n",
    "    plt.show()\n",
    "    label = input()\n",
    "    path_save = os.path.join(path_, label + '.jpg')\n",
    "    image.save(path_save)"
   ],
   "metadata": {
    "collapsed": false,
    "pycharm": {
     "name": "#%%\n"
    }
   }
  },
  {
   "cell_type": "markdown",
   "source": [
    "# 处理验证码"
   ],
   "metadata": {
    "collapsed": false,
    "pycharm": {
     "name": "#%% md\n"
    }
   }
  },
  {
   "cell_type": "code",
   "execution_count": null,
   "outputs": [],
   "source": [
    "path_ = './img_label/'\n",
    "path_pro = './img_pro/' # 处理图片之后图片储存路径\n",
    "files= os.listdir(path_)"
   ],
   "metadata": {
    "collapsed": false,
    "pycharm": {
     "name": "#%%\n"
    }
   }
  },
  {
   "cell_type": "code",
   "execution_count": null,
   "outputs": [],
   "source": [
    "for i in files:\n",
    "\n",
    "    img = cv.imread(os.path.join(path_, i), 1)\n",
    "    img_gray = cv.cvtColor(img,cv.COLOR_BGR2GRAY)\n",
    "    ret,img_binary = cv.threshold(img_gray,177,255,cv.THRESH_BINARY)\n",
    "\n",
    "    img_binary[:2,:] = 255\n",
    "    img_binary[-2:,:] = 255\n",
    "    img_binary[:,:2] = 255\n",
    "    img_binary[:,-2:] = 255\n",
    "\n",
    "    _, contours, _ = cv.findContours(img_binary, cv.RETR_TREE, cv.CHAIN_APPROX_SIMPLE)\n",
    "    cv_contours = []\n",
    "    for contour in contours:\n",
    "        area = cv.contourArea(contour)\n",
    "        if area <= 20:\n",
    "            cv_contours.append(contour)\n",
    "        else:\n",
    "            continue\n",
    "    img_remove = cv.fillPoly(img_binary, cv_contours, 255)\n",
    "    cv.imwrite(os.path.join(path_pro, i), img_remove)"
   ],
   "metadata": {
    "collapsed": false,
    "pycharm": {
     "name": "#%%\n"
    }
   }
  }
 ],
 "metadata": {
  "kernelspec": {
   "display_name": "Python 3",
   "language": "python",
   "name": "python3"
  },
  "language_info": {
   "codemirror_mode": {
    "name": "ipython",
    "version": 2
   },
   "file_extension": ".py",
   "mimetype": "text/x-python",
   "name": "python",
   "nbconvert_exporter": "python",
   "pygments_lexer": "ipython2",
   "version": "2.7.6"
  }
 },
 "nbformat": 4,
 "nbformat_minor": 0
}